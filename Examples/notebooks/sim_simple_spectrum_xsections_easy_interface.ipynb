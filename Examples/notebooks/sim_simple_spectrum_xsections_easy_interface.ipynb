{
 "cells": [
  {
   "cell_type": "code",
   "execution_count": null,
   "metadata": {},
   "outputs": [],
   "source": [
    "\"\"\" Point of this notebook is to demonstrate a method of simiulating a very simple, made up XPS spectrum using cross section\"\"\""
   ]
  },
  {
   "cell_type": "markdown",
   "metadata": {},
   "source": [
    "**Imports**"
   ]
  },
  {
   "cell_type": "code",
   "execution_count": null,
   "metadata": {},
   "outputs": [],
   "source": [
    "import copy\n",
    "import itertools as it\n",
    "\n",
    "import sim_xps_spectra.mol_spectra.spectrum_creator as specCreator\n",
    "import sim_xps_spectra.broad_functs.create_broaden_functs as createBFuncts\n",
    "import sim_xps_spectra.mol_spectra.standard_objs as molSpecObjs\n",
    "import sim_xps_spectra.x_sections.yeh_lindau_db as yhLindau\n",
    "\n",
    "import sim_xps_spectra.plotters.standard_plotters as dPlotters"
   ]
  },
  {
   "cell_type": "markdown",
   "metadata": {},
   "source": [
    "**Configuration variables**"
   ]
  },
  {
   "cell_type": "code",
   "execution_count": null,
   "metadata": {},
   "outputs": [],
   "source": [
    "#What x-values we want to generate the spectrum at\n",
    "X_VALS = [x/100 for x in range(100*20)]\n",
    "\n",
    "#We use the same broadening function for ALL atomic orbitals\n",
    "FWHM = 0.5\n",
    "PHOTON_ENERGY = 500\n",
    "EMISSION_ANGLE = None\n",
    "\n",
    "#All variable for one fragment needs to be stored in this object\n",
    "class MolFragInfo():\n",
    "    def __init__(self, label ,energies, baseIntensities):\n",
    "        self.label = label\n",
    "        self.energies = energies\n",
    "        self.baseIntensities = baseIntensities\n",
    "\n",
    "\n",
    "#Define our fragment A\n",
    "fragAEnergiesCl3s = [5,8]\n",
    "fragAEnergiesCl3p = [1,3,8]\n",
    "fragAIntensitiesCl3s = [2,5]\n",
    "fragAIntensitiesCl3p = [2,7,1]\n",
    "\n",
    "fragALabelCl3s = molSpecObjs.MolFragLabel(fragKey=\"Anion\", eleKey=\"Cl\", aoKey=\"3s\")\n",
    "fragALabelCl3p = molSpecObjs.MolFragLabel(fragKey=\"Anion\", eleKey=\"Cl\", aoKey=\"3p\")\n",
    "fragA_Cl3s = MolFragInfo(fragALabelCl3s, fragAEnergiesCl3s, fragAIntensitiesCl3s)\n",
    "fragA_Cl3p = MolFragInfo(fragALabelCl3p, fragAEnergiesCl3p, fragAIntensitiesCl3p)\n",
    "\n",
    "#Define our fragment B\n",
    "\n",
    "#Put all fragments in a list\n",
    "ALL_FRAGS = [fragA_Cl3s, fragA_Cl3p]"
   ]
  },
  {
   "cell_type": "markdown",
   "metadata": {},
   "source": [
    "**Create our input object**"
   ]
  },
  {
   "cell_type": "code",
   "execution_count": null,
   "metadata": {},
   "outputs": [],
   "source": [
    "spectraFragA = specCreator.SpectrumFragmentStandard(fragAEnergiesCl3s, fragAIntensitiesCl3s, fragALabelCl3s)\n",
    "spectraFragB = specCreator.SpectrumFragmentStandard(fragAEnergiesCl3p, fragAIntensitiesCl3p, fragALabelCl3p)\n",
    "specFrags = [spectraFragA, spectraFragB]\n",
    "\n",
    "normBFunct = createBFuncts.createNormalisedGauFunctFromCentreAndFWHM(0.0,FWHM) #1st val is position\n",
    "\n",
    "specMaker = specCreator.SpectrumCreatorStandard(spectraFrags=specFrags, normBFunct=normBFunct,\n",
    "                                                xSectionDatabase=yhLindau.YehLindauXSectionDatabase(),\n",
    "                                                photonEnergy=PHOTON_ENERGY, emissionAngle=EMISSION_ANGLE,\n",
    "                                                xVals=X_VALS)"
   ]
  },
  {
   "cell_type": "markdown",
   "metadata": {},
   "source": [
    "**Generate the spectrum**"
   ]
  },
  {
   "cell_type": "code",
   "execution_count": null,
   "metadata": {},
   "outputs": [],
   "source": [
    "spectraOutput = specCreator.createSpectrumFromStandardCreator(specMaker)"
   ]
  },
  {
   "cell_type": "markdown",
   "metadata": {},
   "source": [
    "**Plot the spectra**"
   ]
  },
  {
   "cell_type": "code",
   "execution_count": null,
   "metadata": {},
   "outputs": [],
   "source": [
    "dataPlotter = dPlotters.DataPlotterXPS_Standard()\n",
    "allData = [spectraOutput.totalSpectralContributions]\n",
    "allData.extend( spectraOutput.spectralContributions )\n",
    "\n",
    "allDataLabels = [\"Total\"]\n",
    "allDataLabels.extend( [\"-\".join(x.components) for x in spectraOutput.label] )"
   ]
  },
  {
   "cell_type": "code",
   "execution_count": null,
   "metadata": {},
   "outputs": [],
   "source": [
    "outFig = dataPlotter.createPlot(allData, dataLabels = allDataLabels, legend=True, xLim=[0,10])"
   ]
  },
  {
   "cell_type": "code",
   "execution_count": null,
   "metadata": {},
   "outputs": [],
   "source": []
  },
  {
   "cell_type": "code",
   "execution_count": null,
   "metadata": {},
   "outputs": [],
   "source": []
  }
 ],
 "metadata": {
  "kernelspec": {
   "display_name": "Python 3",
   "language": "python",
   "name": "python3"
  },
  "language_info": {
   "codemirror_mode": {
    "name": "ipython",
    "version": 3
   },
   "file_extension": ".py",
   "mimetype": "text/x-python",
   "name": "python",
   "nbconvert_exporter": "python",
   "pygments_lexer": "ipython3",
   "version": "3.7.4"
  }
 },
 "nbformat": 4,
 "nbformat_minor": 4
}
