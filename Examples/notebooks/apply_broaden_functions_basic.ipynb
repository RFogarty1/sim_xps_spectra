{
 "cells": [
  {
   "cell_type": "code",
   "execution_count": null,
   "metadata": {},
   "outputs": [],
   "source": [
    "\"\"\" Notebook to demonstrate how to simply apply broadening functions to data and plot \"\"\""
   ]
  },
  {
   "cell_type": "markdown",
   "metadata": {},
   "source": [
    "**Imports**"
   ]
  },
  {
   "cell_type": "code",
   "execution_count": null,
   "metadata": {},
   "outputs": [],
   "source": [
    "import itertools as it\n",
    "import sim_xps_spectra.broad_functs.create_broaden_functs as bFuncts\n",
    "import sim_xps_spectra.gen_spectra.standard_objs as genSpectraObjs\n",
    "import sim_xps_spectra.gen_spectra.get_spectrum as genSpectraRunner\n",
    "\n",
    "import sim_xps_spectra.plotters.standard_plotters as dPlotters"
   ]
  },
  {
   "cell_type": "markdown",
   "metadata": {},
   "source": [
    "**Configuration variables**"
   ]
  },
  {
   "cell_type": "code",
   "execution_count": null,
   "metadata": {},
   "outputs": [],
   "source": [
    "\n",
    "PEAK_POSITIONS = [2, 4, 6]\n",
    "PEAK_FWHM = [1.0,0.5,0.2]\n",
    "PEAK_INTENSITIES = [5,6,10]\n",
    "\n",
    "X_VALUES = [x/100 for x in range(100*10)]\n"
   ]
  },
  {
   "cell_type": "markdown",
   "metadata": {},
   "source": [
    "**Create a set of broadening functions, 1 per peak**"
   ]
  },
  {
   "cell_type": "code",
   "execution_count": null,
   "metadata": {},
   "outputs": [],
   "source": [
    "broadFuncts = list()\n",
    "for centre,fwhm,intensity in it.zip_longest(PEAK_POSITIONS, PEAK_FWHM, PEAK_INTENSITIES):\n",
    "    currFunct = bFuncts.createNormalisedGauFunctFromCentreAndFWHM(centre,fwhm,area=intensity)\n",
    "    broadFuncts.append(currFunct)\n",
    "    "
   ]
  },
  {
   "cell_type": "markdown",
   "metadata": {},
   "source": [
    "**Create a total broadening function as sum of individual ones**"
   ]
  },
  {
   "cell_type": "code",
   "execution_count": null,
   "metadata": {},
   "outputs": [],
   "source": [
    "#Note label is required if we need to filter out the output objects (e.g. to get individual contributions)\n",
    "totalBroadFunct = bFuncts.BroadenFunctCompositeStandard(broadFuncts)"
   ]
  },
  {
   "cell_type": "markdown",
   "metadata": {},
   "source": [
    "**Create the spectrum**"
   ]
  },
  {
   "cell_type": "code",
   "execution_count": null,
   "metadata": {},
   "outputs": [],
   "source": [
    "spectralInput = genSpectraObjs.GenSpectraInputStandard(totalBroadFunct, None) #None refers to label object\n",
    "spectralOutput = genSpectraRunner.getSpectrumFromApplyingBroadeningFuncts(X_VALUES,spectralInput)"
   ]
  },
  {
   "cell_type": "markdown",
   "metadata": {},
   "source": [
    "**Plot the spectrum**"
   ]
  },
  {
   "cell_type": "code",
   "execution_count": null,
   "metadata": {},
   "outputs": [],
   "source": [
    "dataPlotter = dPlotters.DataPlotterXPS_Standard()\n",
    "outFig=dataPlotter.createPlot([spectralOutput.totalSpectralContributions])"
   ]
  }
 ],
 "metadata": {
  "kernelspec": {
   "display_name": "Python 3",
   "language": "python",
   "name": "python3"
  },
  "language_info": {
   "codemirror_mode": {
    "name": "ipython",
    "version": 3
   },
   "file_extension": ".py",
   "mimetype": "text/x-python",
   "name": "python",
   "nbconvert_exporter": "python",
   "pygments_lexer": "ipython3",
   "version": "3.7.4"
  }
 },
 "nbformat": 4,
 "nbformat_minor": 2
}
