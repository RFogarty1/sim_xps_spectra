{
 "cells": [
  {
   "cell_type": "code",
   "execution_count": null,
   "metadata": {},
   "outputs": [],
   "source": [
    "\"\"\" Point of this notebook is to demonstrate a method of simiulating a very simple, made up XPS spectrum using cross section\"\"\""
   ]
  },
  {
   "cell_type": "markdown",
   "metadata": {},
   "source": [
    "**Imports**"
   ]
  },
  {
   "cell_type": "code",
   "execution_count": null,
   "metadata": {},
   "outputs": [],
   "source": [
    "import copy\n",
    "import itertools as it\n",
    "\n",
    "import sim_xps_spectra.broad_functs.create_broaden_functs as createBFuncts\n",
    "import sim_xps_spectra.mol_spectra.standard_objs as molSpecObjs\n",
    "import sim_xps_spectra.gen_spectra.standard_objs as genSpectraObjs\n",
    "import sim_xps_spectra.gen_spectra.get_spectrum as genSpectraRunner\n",
    "\n",
    "import sim_xps_spectra.x_sections.standard_objs as xSectObjs\n",
    "import sim_xps_spectra.x_sections.yeh_lindau_db as yhLindau\n",
    "\n",
    "import sim_xps_spectra.plotters.standard_plotters as dPlotters"
   ]
  },
  {
   "cell_type": "markdown",
   "metadata": {},
   "source": [
    "**Configuration variables**"
   ]
  },
  {
   "cell_type": "code",
   "execution_count": null,
   "metadata": {},
   "outputs": [],
   "source": [
    "#What x-values we want to generate the spectrum at\n",
    "X_VALS = [x/100 for x in range(100*20)]\n",
    "\n",
    "#We use the same broadening function for ALL atomic orbitals\n",
    "FWHM = 0.5\n",
    "PHOTON_ENERGY = 500\n",
    "\n",
    "#All variable for one fragment needs to be stored in this object\n",
    "class MolFragInfo():\n",
    "    def __init__(self, label ,energies, baseIntensities):\n",
    "        self.label = label\n",
    "        self.energies = energies\n",
    "        self.baseIntensities = baseIntensities\n",
    "\n",
    "\n",
    "#Define our fragment A\n",
    "fragAEnergiesCl3s = [5,8]\n",
    "fragAEnergiesCl3p = [1,3,8]\n",
    "fragAIntensitiesCl3s = [2,5]\n",
    "fragAIntensitiesCl3p = [2,7,1]\n",
    "\n",
    "fragALabelCl3s = molSpecObjs.MolFragLabel(fragKey=\"Anion\", eleKey=\"Cl\", aoKey=\"3s\")\n",
    "fragALabelCl3p = molSpecObjs.MolFragLabel(fragKey=\"Anion\", eleKey=\"Cl\", aoKey=\"3p\")\n",
    "fragA_Cl3s = MolFragInfo(fragALabelCl3s, fragAEnergiesCl3s, fragAIntensitiesCl3s)\n",
    "fragA_Cl3p = MolFragInfo(fragALabelCl3p, fragAEnergiesCl3p, fragAIntensitiesCl3p)\n",
    "\n",
    "#Define our fragment B\n",
    "\n",
    "#Put all fragments in a list\n",
    "ALL_FRAGS = [fragA_Cl3s, fragA_Cl3p]"
   ]
  },
  {
   "cell_type": "markdown",
   "metadata": {},
   "source": [
    "**Create our broaden functions**"
   ]
  },
  {
   "cell_type": "code",
   "execution_count": null,
   "metadata": {},
   "outputs": [],
   "source": [
    "def createBroadenFunctFromEnergiesIntensitiesAndFWHM(energies:list, intensities:list, fwhm):\n",
    "    allFuncts = list()\n",
    "    for e,i in it.zip_longest(energies,intensities):\n",
    "        currGau = createBFuncts.createNormalisedGauFunctFromCentreAndFWHM(e, fwhm, area=i)\n",
    "        allFuncts.append(currGau)\n",
    "    return createBFuncts.BroadenFunctCompositeStandard(allFuncts)\n",
    "    \n",
    "allBroadenFuncts = list()\n",
    "for obj in ALL_FRAGS:\n",
    "    currBroadenFunct = createBroadenFunctFromEnergiesIntensitiesAndFWHM( obj.energies, obj.baseIntensities, FWHM)\n",
    "    allBroadenFuncts.append( currBroadenFunct )\n",
    "    "
   ]
  },
  {
   "cell_type": "markdown",
   "metadata": {},
   "source": [
    "**Modify the areas of the broadening functions by the cross-sections**"
   ]
  },
  {
   "cell_type": "code",
   "execution_count": null,
   "metadata": {},
   "outputs": [],
   "source": [
    "xSectDatabase = yhLindau.YehLindauXSectionDatabase()\n",
    "xSectCalculator = xSectObjs.CrossSectionCalculatorStandard(xSectDatabase)\n"
   ]
  },
  {
   "cell_type": "code",
   "execution_count": null,
   "metadata": {},
   "outputs": [],
   "source": [
    "allLabelStrs, allXSections, allHv = list(), list(), list()\n",
    "for obj in ALL_FRAGS:\n",
    "    allLabelStrs.append( obj.label.xSectionLabel )\n",
    "    currXSection = xSectCalculator.calculateTotalCrossSection(obj.label.xSectionLabel, PHOTON_ENERGY)\n",
    "    currHv = xSectCalculator.getHvUsedToCalculateCrossSection(obj.label.xSectionLabel, PHOTON_ENERGY)\n",
    "    allHv.append(currHv), allXSections.append(currXSection)"
   ]
  },
  {
   "cell_type": "code",
   "execution_count": null,
   "metadata": {},
   "outputs": [],
   "source": [
    "#Check we're using same hv for all\n",
    "hvDiffs = [abs(x-allHv[0]) for x in allHv]\n",
    "assert all([x<1.0 for x in hvDiffs])\n",
    "\n",
    "#Print out the hv and cross-section values\n",
    "for hv,label,xSection in it.zip_longest(allHv,allLabelStrs, allXSections):\n",
    "    print(\"hv = {}, {}={}\".format(hv,label,xSection))"
   ]
  },
  {
   "cell_type": "code",
   "execution_count": null,
   "metadata": {},
   "outputs": [],
   "source": [
    "#Now actually apply these cross-sections to the broadening functions. Note this would be very messy if \n",
    "#broadening functions wernt separate for different ao-fragments\n",
    "def _getBFunctsModdedByXSections(bFuncts,xSections):\n",
    "    outBFuncts = copy.deepcopy(bFuncts)\n",
    "    for bFunct, xSection in it.zip_longest(outBFuncts,allXSections):\n",
    "        currIntensities = bFunct.areas\n",
    "        bFunct.areas = [x*xSection for x in currIntensities]\n",
    "    return outBFuncts\n",
    "\n",
    "finalBroadFuncts =  _getBFunctsModdedByXSections(allBroadenFuncts, allXSections)\n"
   ]
  },
  {
   "cell_type": "markdown",
   "metadata": {},
   "source": [
    "**Generate the spectra**"
   ]
  },
  {
   "cell_type": "code",
   "execution_count": null,
   "metadata": {},
   "outputs": [],
   "source": [
    "allLabels = [x.label for x in ALL_FRAGS]\n",
    "allInpObjs = list()\n",
    "for lab, bFunct in it.zip_longest(allLabels,finalBroadFuncts):\n",
    "    currObj = genSpectraObjs.GenSpectraInputStandard(bFunct,lab)\n",
    "    allInpObjs.append(currObj)\n",
    "compositeInputObj = genSpectraObjs.GenSpectraInputCompositeStandard(allInpObjs)\n",
    "spectraOutput = genSpectraRunner.getSpectrumFromApplyingBroadeningFuncts(X_VALS,compositeInputObj)\n",
    "print(max(spectraOutput.totalSpectralContributions,key=lambda x:x[1]))"
   ]
  },
  {
   "cell_type": "markdown",
   "metadata": {},
   "source": [
    "**Plot the spectra**"
   ]
  },
  {
   "cell_type": "code",
   "execution_count": null,
   "metadata": {},
   "outputs": [],
   "source": [
    "dataPlotter = dPlotters.DataPlotterXPS_Standard()\n",
    "allData = [spectraOutput.totalSpectralContributions]\n",
    "allData.extend( spectraOutput.spectralContributions )\n",
    "\n",
    "allDataLabels = [\"Total\"]\n",
    "allDataLabels.extend( [\"-\".join(x.components) for x in spectraOutput.label] )"
   ]
  },
  {
   "cell_type": "code",
   "execution_count": null,
   "metadata": {},
   "outputs": [],
   "source": [
    "outFig = dataPlotter.createPlot(allData, dataLabels = allDataLabels, legend=True, xLim=[0,10])"
   ]
  },
  {
   "cell_type": "code",
   "execution_count": null,
   "metadata": {},
   "outputs": [],
   "source": []
  },
  {
   "cell_type": "code",
   "execution_count": null,
   "metadata": {},
   "outputs": [],
   "source": []
  }
 ],
 "metadata": {
  "kernelspec": {
   "display_name": "Python 3",
   "language": "python",
   "name": "python3"
  },
  "language_info": {
   "codemirror_mode": {
    "name": "ipython",
    "version": 3
   },
   "file_extension": ".py",
   "mimetype": "text/x-python",
   "name": "python",
   "nbconvert_exporter": "python",
   "pygments_lexer": "ipython3",
   "version": "3.7.4"
  }
 },
 "nbformat": 4,
 "nbformat_minor": 4
}
